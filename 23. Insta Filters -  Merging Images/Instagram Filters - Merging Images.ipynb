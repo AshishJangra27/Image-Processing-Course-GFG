{
 "cells": [
  {
   "cell_type": "code",
   "execution_count": 1,
   "id": "b45eb0cb",
   "metadata": {},
   "outputs": [],
   "source": [
    "import cv2 as cv\n",
    "import numpy as np\n",
    "import matplotlib.pyplot as plt"
   ]
  },
  {
   "cell_type": "code",
   "execution_count": 26,
   "id": "8bd969b2",
   "metadata": {},
   "outputs": [],
   "source": [
    "def merge(foreground_path, background_path, a, b):\n",
    "    \n",
    "    background = []\n",
    "\n",
    "    img        = cv.imread(foreground_path)\n",
    "    background = cv.imread(background_path)\n",
    "    \n",
    "#     background = cv.flip(background, 0)\n",
    "    \n",
    "    background = cv.resize(background, (img.shape[1], img.shape[0]))\n",
    "\n",
    "    final = cv.addWeighted(img, a, background, b , 0)\n",
    "\n",
    "    cv.imshow('Original',img)\n",
    "    cv.waitKey(0)\n",
    "\n",
    "    cv.imshow('Processed',final)\n",
    "    cv.waitKey(0)"
   ]
  },
  {
   "cell_type": "code",
   "execution_count": 32,
   "id": "3bbb71ca",
   "metadata": {},
   "outputs": [],
   "source": [
    "merge('img_4.png', 'b4.jpeg', .5, .5)"
   ]
  },
  {
   "cell_type": "code",
   "execution_count": null,
   "id": "eb90f5d5",
   "metadata": {},
   "outputs": [],
   "source": []
  }
 ],
 "metadata": {
  "kernelspec": {
   "display_name": "Python 3 (ipykernel)",
   "language": "python",
   "name": "python3"
  },
  "language_info": {
   "codemirror_mode": {
    "name": "ipython",
    "version": 3
   },
   "file_extension": ".py",
   "mimetype": "text/x-python",
   "name": "python",
   "nbconvert_exporter": "python",
   "pygments_lexer": "ipython3",
   "version": "3.9.7"
  }
 },
 "nbformat": 4,
 "nbformat_minor": 5
}
