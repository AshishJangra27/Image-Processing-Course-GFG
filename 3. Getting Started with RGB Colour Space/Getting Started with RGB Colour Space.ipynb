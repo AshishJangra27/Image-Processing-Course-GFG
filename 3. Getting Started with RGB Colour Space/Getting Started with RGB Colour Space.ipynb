{
 "cells": [
  {
   "cell_type": "code",
   "execution_count": 3,
   "id": "c6551f2f",
   "metadata": {},
   "outputs": [],
   "source": [
    "import cv2 as cv\n",
    "import numpy as np\n",
    "import matplotlib.pyplot as plt"
   ]
  },
  {
   "cell_type": "markdown",
   "id": "d0db21ae",
   "metadata": {},
   "source": [
    "### 1. Creating Black Image in RGB Colour Space"
   ]
  },
  {
   "cell_type": "code",
   "execution_count": 9,
   "id": "78d81ec1",
   "metadata": {
    "scrolled": true
   },
   "outputs": [
    {
     "data": {
      "text/plain": [
       "True"
      ]
     },
     "execution_count": 9,
     "metadata": {},
     "output_type": "execute_result"
    },
    {
     "data": {
      "image/png": "[encoded data removed]",
      "text/plain": [
       "<Figure size 432x288 with 1 Axes>"
      ]
     },
     "metadata": {
      "needs_background": "light"
     },
     "output_type": "display_data"
    }
   ],
   "source": [
    "arr = np.array([[[ 0 , 0 , 0 ] , [ 0 , 0 , 0 ] ,[ 0 , 0 , 0 ]],\n",
    "                [[ 0 , 0 , 0 ] , [ 0 , 0 , 0 ] ,[ 0 , 0 , 0 ]],\n",
    "                [[ 0 , 0 , 0 ] , [ 0 , 0 , 0 ] ,[ 0 , 0 , 0 ]]])\n",
    "\n",
    "plt.imshow(arr)\n",
    "\n",
    "cv.imwrite('Black.png',arr)"
   ]
  },
  {
   "cell_type": "markdown",
   "id": "f21d9cc6",
   "metadata": {},
   "source": [
    "### 2. Creating White Image in RGB Colour Space"
   ]
  },
  {
   "cell_type": "code",
   "execution_count": 10,
   "id": "a9714709",
   "metadata": {},
   "outputs": [
    {
     "data": {
      "text/plain": [
       "True"
      ]
     },
     "execution_count": 10,
     "metadata": {},
     "output_type": "execute_result"
    },
    {
     "data": {
      "image/png": "[encoded data removed]",
      "text/plain": [
       "<Figure size 432x288 with 1 Axes>"
      ]
     },
     "metadata": {
      "needs_background": "light"
     },
     "output_type": "display_data"
    }
   ],
   "source": [
    "arr = np.array([[[255,255,255] , [255,255,255] ,[255,255,255]],\n",
    "                [[255,255,255] , [255,255,255] ,[255,255,255]],\n",
    "                [[255,255,255] , [255,255,255] ,[255,255,255]]])\n",
    "\n",
    "plt.imshow(arr)\n",
    "\n",
    "cv.imwrite('White.png',arr)"
   ]
  },
  {
   "cell_type": "markdown",
   "id": "6c43c20a",
   "metadata": {},
   "source": [
    "### 3. Creating Pattern in Black and White with RGB Colour Space"
   ]
  },
  {
   "cell_type": "code",
   "execution_count": 13,
   "id": "be2c6bc8",
   "metadata": {},
   "outputs": [
    {
     "data": {
      "text/plain": [
       "True"
      ]
     },
     "execution_count": 13,
     "metadata": {},
     "output_type": "execute_result"
    },
    {
     "data": {
      "image/png": "[encoded data removed]",
      "text/plain": [
       "<Figure size 432x288 with 1 Axes>"
      ]
     },
     "metadata": {
      "needs_background": "light"
     },
     "output_type": "display_data"
    }
   ],
   "source": [
    "arr = np.array([[[ 0 , 0 , 0 ] , [255,255,255] ,[ 0 , 0 , 0 ]],\n",
    "                [[255,255,255] , [ 0 , 0 , 0 ] ,[255,255,255]],\n",
    "                [[ 0 , 0 , 0 ] , [255,255,255] ,[0 , 0 , 0 ]]])\n",
    "\n",
    "plt.imshow(arr)\n",
    "\n",
    "cv.imwrite('pattern_RGB.png',arr)"
   ]
  },
  {
   "cell_type": "markdown",
   "id": "e2288265",
   "metadata": {},
   "source": [
    "### 1. Creating Pattern Image with Gray Colour Space"
   ]
  },
  {
   "cell_type": "code",
   "execution_count": 14,
   "id": "f05ed442",
   "metadata": {},
   "outputs": [
    {
     "data": {
      "text/plain": [
       "True"
      ]
     },
     "execution_count": 14,
     "metadata": {},
     "output_type": "execute_result"
    },
    {
     "data": {
      "image/png": "[encoded data removed]",
      "text/plain": [
       "<Figure size 432x288 with 1 Axes>"
      ]
     },
     "metadata": {
      "needs_background": "light"
     },
     "output_type": "display_data"
    }
   ],
   "source": [
    "arr = np.array([[0  ,255, 0],\n",
    "                [255, 0 ,255],\n",
    "                [0  ,255, 0]])\n",
    "\n",
    "plt.imshow(arr)\n",
    "\n",
    "cv.imwrite('pattern_Gray.png',arr)"
   ]
  }
 ],
 "metadata": {
  "kernelspec": {
   "display_name": "Python 3 (ipykernel)",
   "language": "python",
   "name": "python3"
  },
  "language_info": {
   "codemirror_mode": {
    "name": "ipython",
    "version": 3
   },
   "file_extension": ".py",
   "mimetype": "text/x-python",
   "name": "python",
   "nbconvert_exporter": "python",
   "pygments_lexer": "ipython3",
   "version": "3.9.7"
  }
 },
 "nbformat": 4,
 "nbformat_minor": 5
}
