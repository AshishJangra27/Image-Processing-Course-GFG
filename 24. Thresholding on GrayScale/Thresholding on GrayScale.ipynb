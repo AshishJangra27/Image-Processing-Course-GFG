{
 "cells": [
  {
   "cell_type": "code",
   "execution_count": 1,
   "id": "b45eb0cb",
   "metadata": {},
   "outputs": [],
   "source": [
    "import cv2 as cv\n",
    "import numpy as np\n",
    "import matplotlib.pyplot as plt"
   ]
  },
  {
   "cell_type": "code",
   "execution_count": 2,
   "id": "bafd818d",
   "metadata": {},
   "outputs": [],
   "source": [
    "cam = cv.VideoCapture(0)\n",
    "\n",
    "while True:\n",
    "    \n",
    "    _ , img = cam.read()\n",
    "    \n",
    "    img = cv.resize(img , (int(1280/2), int(720/2)))\n",
    "    img = cv.flip(img,1)\n",
    "    \n",
    "    gray = cv.cvtColor(img , cv.COLOR_BGR2GRAY)\n",
    "    \n",
    "    gray_thr_1 = gray.copy()\n",
    "    gray_thr_1[gray_thr_1 > 200] = 30        # Black Background\n",
    "    \n",
    "    gray_thr_2 = gray.copy()\n",
    "    gray_thr_2[gray_thr_2 > 200] = 100       # White Background\n",
    "    \n",
    "    \n",
    "    cv.imshow('Original'  ,img)\n",
    "    cv.imshow('Gray'      ,gray)\n",
    "    cv.imshow('Gray_Thr1' ,gray_thr_1)\n",
    "    cv.imshow('Gray_Thr2' ,gray_thr_2)\n",
    "    \n",
    "    if cv.waitKey(1) == 27:\n",
    "        \n",
    "        cam.release()\n",
    "        break"
   ]
  },
  {
   "cell_type": "code",
   "execution_count": 32,
   "id": "46b6bec8",
   "metadata": {},
   "outputs": [],
   "source": [
    "merge('img_4.png', 'b4.jpeg', .5, .5)"
   ]
  },
  {
   "cell_type": "code",
   "execution_count": 3,
   "id": "d5df7b4c",
   "metadata": {},
   "outputs": [
    {
     "data": {
      "text/plain": [
       "(720, 1280, 3)"
      ]
     },
     "execution_count": 3,
     "metadata": {},
     "output_type": "execute_result"
    }
   ],
   "source": [
    "img.shape"
   ]
  },
  {
   "cell_type": "code",
   "execution_count": null,
   "id": "1628bcd8",
   "metadata": {},
   "outputs": [],
   "source": []
  }
 ],
 "metadata": {
  "kernelspec": {
   "display_name": "Python 3 (ipykernel)",
   "language": "python",
   "name": "python3"
  },
  "language_info": {
   "codemirror_mode": {
    "name": "ipython",
    "version": 3
   },
   "file_extension": ".py",
   "mimetype": "text/x-python",
   "name": "python",
   "nbconvert_exporter": "python",
   "pygments_lexer": "ipython3",
   "version": "3.9.7"
  }
 },
 "nbformat": 4,
 "nbformat_minor": 5
}
