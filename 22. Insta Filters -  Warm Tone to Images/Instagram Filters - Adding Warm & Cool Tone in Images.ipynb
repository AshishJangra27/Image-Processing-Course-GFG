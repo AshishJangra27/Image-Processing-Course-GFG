{
 "cells": [
  {
   "cell_type": "code",
   "execution_count": 1,
   "id": "b45eb0cb",
   "metadata": {},
   "outputs": [],
   "source": [
    "import cv2 as cv\n",
    "import numpy as np\n",
    "import matplotlib.pyplot as plt"
   ]
  },
  {
   "cell_type": "markdown",
   "id": "96eb4b02",
   "metadata": {},
   "source": [
    "### 1. Adding Tone"
   ]
  },
  {
   "cell_type": "code",
   "execution_count": 4,
   "id": "a6421742",
   "metadata": {},
   "outputs": [],
   "source": [
    "def add_tone(img_path, color, a, b):\n",
    "    \n",
    "    background = []\n",
    "\n",
    "    img = cv.imread(img_path)\n",
    "\n",
    "    cols = img.shape[1]\n",
    "    rows = img.shape[0]\n",
    "\n",
    "\n",
    "    for i in range(rows):\n",
    "        temp = []\n",
    "        for j in range(cols):\n",
    "            temp.append(color)\n",
    "\n",
    "        background.append(temp)\n",
    "\n",
    "    background = np.array(background).astype(np.uint8)\n",
    "\n",
    "    final = cv.addWeighted(img, a , background, b , 0)\n",
    "\n",
    "    cv.imshow('Original',img)\n",
    "    cv.waitKey(0)\n",
    "\n",
    "    cv.imshow('Processed',final)\n",
    "    cv.waitKey(0)"
   ]
  },
  {
   "cell_type": "code",
   "execution_count": 12,
   "id": "b7762978",
   "metadata": {},
   "outputs": [],
   "source": [
    "add_tone('img_3.png', [80,20,200], .5, .5)"
   ]
  },
  {
   "cell_type": "code",
   "execution_count": 13,
   "id": "d284e6d6",
   "metadata": {},
   "outputs": [],
   "source": [
    "add_tone('img_3.png', [200,20,80], .5, .5)"
   ]
  },
  {
   "cell_type": "code",
   "execution_count": null,
   "id": "cee06b17",
   "metadata": {},
   "outputs": [],
   "source": []
  }
 ],
 "metadata": {
  "kernelspec": {
   "display_name": "Python 3 (ipykernel)",
   "language": "python",
   "name": "python3"
  },
  "language_info": {
   "codemirror_mode": {
    "name": "ipython",
    "version": 3
   },
   "file_extension": ".py",
   "mimetype": "text/x-python",
   "name": "python",
   "nbconvert_exporter": "python",
   "pygments_lexer": "ipython3",
   "version": "3.9.7"
  }
 },
 "nbformat": 4,
 "nbformat_minor": 5
}
