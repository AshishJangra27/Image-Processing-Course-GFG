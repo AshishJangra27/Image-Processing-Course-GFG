{
 "cells": [
  {
   "cell_type": "code",
   "execution_count": 3,
   "id": "069e0652",
   "metadata": {},
   "outputs": [],
   "source": [
    "import cv2 as cv\n",
    "import numpy as np\n",
    "import matplotlib.pyplot as plt"
   ]
  },
  {
   "cell_type": "code",
   "execution_count": null,
   "id": "60837196",
   "metadata": {},
   "outputs": [],
   "source": [
    "[R  , G , B ]\n",
    "\n",
    "[255, 0 , 0 ] - Red\n",
    "[0  ,255, 0 ] - Green"
   ]
  },
  {
   "cell_type": "markdown",
   "id": "433ba1a6",
   "metadata": {},
   "source": [
    "### 1. Creating Red Image"
   ]
  },
  {
   "cell_type": "code",
   "execution_count": 18,
   "id": "a4338e16",
   "metadata": {
    "scrolled": true
   },
   "outputs": [
    {
     "data": {
      "text/plain": [
       "<matplotlib.image.AxesImage at 0x7ff3114d7640>"
      ]
     },
     "execution_count": 18,
     "metadata": {},
     "output_type": "execute_result"
    },
    {
     "data": {
      "image/png": "[encoded data removed]",
      "text/plain": [
       "<Figure size 432x288 with 1 Axes>"
      ]
     },
     "metadata": {
      "needs_background": "light"
     },
     "output_type": "display_data"
    }
   ],
   "source": [
    "arr = np.array([[[ 255 , 0 , 0 ] , [ 255 , 0 , 0 ] ,[ 255 , 0 , 0 ]],\n",
    "                [[ 255 , 0 , 0 ] , [ 255 , 0 , 0 ] ,[ 255 , 0 , 0 ]],\n",
    "                [[ 255 , 0 , 0 ] , [ 255 , 0 , 0 ] ,[ 255 , 0 , 0 ]]])\n",
    "\n",
    "plt.imshow(arr)"
   ]
  },
  {
   "cell_type": "markdown",
   "id": "8fc301aa",
   "metadata": {},
   "source": [
    "### 2. Creating Green Image"
   ]
  },
  {
   "cell_type": "code",
   "execution_count": 19,
   "id": "ab421d5f",
   "metadata": {},
   "outputs": [
    {
     "data": {
      "text/plain": [
       "<matplotlib.image.AxesImage at 0x7ff31132c3a0>"
      ]
     },
     "execution_count": 19,
     "metadata": {},
     "output_type": "execute_result"
    },
    {
     "data": {
      "image/png": "[encoded data removed]",
      "text/plain": [
       "<Figure size 432x288 with 1 Axes>"
      ]
     },
     "metadata": {
      "needs_background": "light"
     },
     "output_type": "display_data"
    }
   ],
   "source": [
    "arr = np.array([[[ 0, 255 , 0  ] , [ 0, 255 , 0 ] ,[ 0, 255 , 0 ]],\n",
    "                [[ 0, 255 , 0  ] , [ 0, 255 , 0 ] ,[ 0, 255 , 0 ]],\n",
    "                [[ 0, 255 , 0  ] , [ 0, 255 , 0 ] ,[ 0, 255 , 0 ]]])\n",
    "\n",
    "plt.imshow(arr)"
   ]
  },
  {
   "cell_type": "markdown",
   "id": "6127bec8",
   "metadata": {},
   "source": [
    "### 3. Creating Blue Image"
   ]
  },
  {
   "cell_type": "code",
   "execution_count": 20,
   "id": "ec2ea0a1",
   "metadata": {},
   "outputs": [
    {
     "data": {
      "text/plain": [
       "<matplotlib.image.AxesImage at 0x7ff31133a400>"
      ]
     },
     "execution_count": 20,
     "metadata": {},
     "output_type": "execute_result"
    },
    {
     "data": {
      "image/png": "[encoded data removed]",
      "text/plain": [
       "<Figure size 432x288 with 1 Axes>"
      ]
     },
     "metadata": {
      "needs_background": "light"
     },
     "output_type": "display_data"
    }
   ],
   "source": [
    "arr = np.array([[[ 0,0, 255 ] , [ 0,0, 255 ] ,[ 0,0, 255 ]],\n",
    "                [[ 0,0, 255 ] , [ 0,0, 255 ] ,[ 0,0, 255 ]],\n",
    "                [[ 0,0, 255 ] , [ 0,0, 255 ] ,[ 0,0, 255 ]]])\n",
    "\n",
    "plt.imshow(arr)"
   ]
  },
  {
   "cell_type": "markdown",
   "id": "bef31f5e",
   "metadata": {},
   "source": [
    "### 4. Creating Red Green Blue Image Pattern"
   ]
  },
  {
   "cell_type": "code",
   "execution_count": 21,
   "id": "751a8cca",
   "metadata": {},
   "outputs": [
    {
     "data": {
      "text/plain": [
       "<matplotlib.image.AxesImage at 0x7ff3114feaf0>"
      ]
     },
     "execution_count": 21,
     "metadata": {},
     "output_type": "execute_result"
    },
    {
     "data": {
      "image/png": "[encoded data removed]",
      "text/plain": [
       "<Figure size 432x288 with 1 Axes>"
      ]
     },
     "metadata": {
      "needs_background": "light"
     },
     "output_type": "display_data"
    }
   ],
   "source": [
    "arr = np.array([[[ 255,0,0 ] , [ 255,0,0 ] ,[ 255,0,0 ]],\n",
    "                [[ 0,255,0 ] , [ 0,255,0 ] ,[ 0,255,0 ]],\n",
    "                [[ 0,0,255 ] , [ 0,0,255 ] ,[ 0,0,255 ]]])\n",
    "\n",
    "plt.imshow(arr)"
   ]
  },
  {
   "cell_type": "code",
   "execution_count": null,
   "id": "3abb10c6",
   "metadata": {},
   "outputs": [],
   "source": []
  }
 ],
 "metadata": {
  "kernelspec": {
   "display_name": "Python 3 (ipykernel)",
   "language": "python",
   "name": "python3"
  },
  "language_info": {
   "codemirror_mode": {
    "name": "ipython",
    "version": 3
   },
   "file_extension": ".py",
   "mimetype": "text/x-python",
   "name": "python",
   "nbconvert_exporter": "python",
   "pygments_lexer": "ipython3",
   "version": "3.9.7"
  }
 },
 "nbformat": 4,
 "nbformat_minor": 5
}
