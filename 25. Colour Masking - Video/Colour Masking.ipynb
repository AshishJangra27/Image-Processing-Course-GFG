{
 "cells": [
  {
   "cell_type": "code",
   "execution_count": 3,
   "id": "67bc9708",
   "metadata": {},
   "outputs": [],
   "source": [
    "import cv2 as cv\n",
    "import numpy as np\n",
    "import matplotlib.pyplot as plt"
   ]
  },
  {
   "cell_type": "code",
   "execution_count": 12,
   "id": "1b721ce3",
   "metadata": {},
   "outputs": [],
   "source": [
    "camera = cv.VideoCapture(0)\n",
    "\n",
    "lower = np.array([0,0,0])\n",
    "upper = np.array([60,60,60])\n",
    "\n",
    "while True:\n",
    "    \n",
    "    _ , img = camera.read()\n",
    "    img = cv.flip(img,1)    \n",
    "    \n",
    "    mask = cv.blur(img, (4,4))\n",
    "    mask = cv.inRange(mask, lower, upper)\n",
    "    \n",
    "    cv.imshow(\"Frame\" , img)\n",
    "    cv.imshow(\"Mask\"  , mask)\n",
    "    \n",
    "    if (cv.waitKey(1) == 27):\n",
    "        camera.release()\n",
    "        break\n",
    "        \n",
    "camera.release()    "
   ]
  }
 ],
 "metadata": {
  "kernelspec": {
   "display_name": "Python 3 (ipykernel)",
   "language": "python",
   "name": "python3"
  },
  "language_info": {
   "codemirror_mode": {
    "name": "ipython",
    "version": 3
   },
   "file_extension": ".py",
   "mimetype": "text/x-python",
   "name": "python",
   "nbconvert_exporter": "python",
   "pygments_lexer": "ipython3",
   "version": "3.9.7"
  }
 },
 "nbformat": 4,
 "nbformat_minor": 5
}
