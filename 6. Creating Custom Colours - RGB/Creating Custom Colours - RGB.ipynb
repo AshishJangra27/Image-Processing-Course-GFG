{
 "cells": [
  {
   "cell_type": "code",
   "execution_count": 2,
   "id": "b45eb0cb",
   "metadata": {},
   "outputs": [],
   "source": [
    "import cv2 as cv\n",
    "import numpy as np\n",
    "import matplotlib.pyplot as plt"
   ]
  },
  {
   "cell_type": "markdown",
   "id": "b84dfb70",
   "metadata": {},
   "source": [
    "### 1. Creating Custom Colour"
   ]
  },
  {
   "cell_type": "code",
   "execution_count": 42,
   "id": "6ef02fec",
   "metadata": {
    "scrolled": true
   },
   "outputs": [
    {
     "data": {
      "text/plain": [
       "<matplotlib.image.AxesImage at 0x7fcf99cc5fd0>"
      ]
     },
     "execution_count": 42,
     "metadata": {},
     "output_type": "execute_result"
    },
    {
     "data": {
      "image/png": "[encoded data removed]",
      "text/plain": [
       "<Figure size 432x288 with 1 Axes>"
      ]
     },
     "metadata": {
      "needs_background": "light"
     },
     "output_type": "display_data"
    }
   ],
   "source": [
    "arr = np.array([[[ 249  , 220 , 104 ] , [ 55  , 126 , 34 ] ,[ 90  , 0 , 0 ]],\n",
    "                [[ 139  , 206 , 247 ] , [ 239 , 134 , 59 ] ,[ 180 , 0 , 0 ]],\n",
    "                [[ 113  , 178 , 229 ] , [ 240 , 0 , 0 ] ,[ 255 , 0 , 0 ]]])\n",
    "\n",
    "plt.imshow(arr)"
   ]
  },
  {
   "cell_type": "markdown",
   "id": "2fb2644d",
   "metadata": {},
   "source": [
    "### 2. Creating Dense Image"
   ]
  },
  {
   "cell_type": "code",
   "execution_count": 43,
   "id": "4ad0f955",
   "metadata": {},
   "outputs": [
    {
     "data": {
      "text/plain": [
       "<matplotlib.image.AxesImage at 0x7fcf48706dc0>"
      ]
     },
     "execution_count": 43,
     "metadata": {},
     "output_type": "execute_result"
    },
    {
     "data": {
      "image/png": "[encoded data removed]",
      "text/plain": [
       "<Figure size 432x288 with 1 Axes>"
      ]
     },
     "metadata": {
      "needs_background": "light"
     },
     "output_type": "display_data"
    }
   ],
   "source": [
    "img = []\n",
    "\n",
    "for i in range(720):\n",
    "    t = []\n",
    "    for j in range(1080):\n",
    "        t.append([ 239 , 134 , 59])\n",
    "    img.append(t)\n",
    "\n",
    "img = np.array(img)\n",
    "\n",
    "plt.imshow(img)"
   ]
  },
  {
   "cell_type": "code",
   "execution_count": 45,
   "id": "6c5bdb00",
   "metadata": {},
   "outputs": [
    {
     "data": {
      "text/plain": [
       "True"
      ]
     },
     "execution_count": 45,
     "metadata": {},
     "output_type": "execute_result"
    }
   ],
   "source": [
    "cv.imwrite('Orange.png',img)"
   ]
  },
  {
   "cell_type": "code",
   "execution_count": 46,
   "id": "5cf19911",
   "metadata": {},
   "outputs": [
    {
     "data": {
      "text/plain": [
       "True"
      ]
     },
     "execution_count": 46,
     "metadata": {},
     "output_type": "execute_result"
    },
    {
     "data": {
      "image/png": "[encoded data removed]",
      "text/plain": [
       "<Figure size 432x288 with 1 Axes>"
      ]
     },
     "metadata": {
      "needs_background": "light"
     },
     "output_type": "display_data"
    }
   ],
   "source": [
    "img = []\n",
    "\n",
    "for i in range(720):\n",
    "    t = []\n",
    "    for j in range(1080):\n",
    "        t.append([ 59 , 134 , 239])\n",
    "    img.append(t)\n",
    "\n",
    "img = np.array(img)\n",
    "\n",
    "plt.imshow(img)\n",
    "\n",
    "cv.imwrite('Orange_1.png',img)"
   ]
  }
 ],
 "metadata": {
  "kernelspec": {
   "display_name": "Python 3 (ipykernel)",
   "language": "python",
   "name": "python3"
  },
  "language_info": {
   "codemirror_mode": {
    "name": "ipython",
    "version": 3
   },
   "file_extension": ".py",
   "mimetype": "text/x-python",
   "name": "python",
   "nbconvert_exporter": "python",
   "pygments_lexer": "ipython3",
   "version": "3.9.7"
  }
 },
 "nbformat": 4,
 "nbformat_minor": 5
}
