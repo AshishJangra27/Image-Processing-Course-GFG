{
 "cells": [
  {
   "cell_type": "code",
   "execution_count": 4,
   "id": "b45eb0cb",
   "metadata": {},
   "outputs": [],
   "source": [
    "import cv2 as cv\n",
    "import numpy as np\n",
    "import matplotlib.pyplot as plt"
   ]
  },
  {
   "cell_type": "code",
   "execution_count": 6,
   "id": "e51ca869",
   "metadata": {},
   "outputs": [],
   "source": [
    "cam = cv.VideoCapture(0)\n",
    "\n",
    "c = 1\n",
    "\n",
    "while True:\n",
    "\n",
    "    _, img = cam.read()\n",
    "    \n",
    "    img = cv.flip(img, 1) \n",
    "   \n",
    "    cv.imshow(\"Frame\",img)\n",
    "    \n",
    "    key = cv.waitKey(30)\n",
    "    \n",
    "    if (key == 13):                                           # Click selfie if Enter is pressed\n",
    "        cv.imwrite('Selfie/Selfie_' + str(c) + '.png', img)\n",
    "        c += 1\n",
    "    \n",
    "    \n",
    "    if (key == 27):                                           # Terminate the program if Escape is Pressed\n",
    "        cam.release()\n",
    "        break"
   ]
  },
  {
   "cell_type": "code",
   "execution_count": null,
   "id": "96d12454",
   "metadata": {},
   "outputs": [],
   "source": []
  }
 ],
 "metadata": {
  "kernelspec": {
   "display_name": "Python 3 (ipykernel)",
   "language": "python",
   "name": "python3"
  },
  "language_info": {
   "codemirror_mode": {
    "name": "ipython",
    "version": 3
   },
   "file_extension": ".py",
   "mimetype": "text/x-python",
   "name": "python",
   "nbconvert_exporter": "python",
   "pygments_lexer": "ipython3",
   "version": "3.9.7"
  }
 },
 "nbformat": 4,
 "nbformat_minor": 5
}
