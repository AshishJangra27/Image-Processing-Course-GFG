{
 "cells": [
  {
   "cell_type": "code",
   "execution_count": 1,
   "id": "3d1bd3b9",
   "metadata": {},
   "outputs": [
    {
     "name": "stdout",
     "output_type": "stream",
     "text": [
      "People/IMG_2.png is exported\n",
      "People/IMG_3.png is exported\n",
      "People/IMG_4.png is exported\n",
      "People/IMG_5.png is exported\n",
      "People/IMG_6.png is exported\n",
      "People/IMG_7.png is exported\n"
     ]
    }
   ],
   "source": [
    "import os\n",
    "import cv2 as cv\n",
    "import numpy as np\n",
    "\n",
    "\n",
    "img = cv.imread('group.png')\n",
    "\n",
    "classifier = cv.CascadeClassifier('haarcascade_frontalface_default.xml')\n",
    "faces = classifier.detectMultiScale(img, 1.1, 5)\n",
    "\n",
    "\n",
    "def save(frame, folder_name): \n",
    "    name_img = len(os.listdir(folder_name)) + 1\n",
    "    name_img = folder_name + \"/IMG_\" + str(name_img) + '.png'\n",
    "    cv.imwrite(name_img, frame)\n",
    "    print(name_img ,'is exported')\n",
    "\n",
    "\n",
    "for (x,y,w,h) in faces:\n",
    "\n",
    "    face = img[y:y+h, x:x+w]\n",
    "    cv.imshow('Face'   , face)\n",
    "    \n",
    "    \n",
    "    if cv.waitKey(0) == 13:         # Save the Image | 13  = Enter Key\n",
    "        save(face, 'People')\n",
    "    \n",
    "    elif cv.waitKey(0) == 127:      # Skip the Image | 127 = Delete Key\n",
    "        pass\n",
    "    "
   ]
  }
 ],
 "metadata": {
  "kernelspec": {
   "display_name": "Python 3 (ipykernel)",
   "language": "python",
   "name": "python3"
  },
  "language_info": {
   "codemirror_mode": {
    "name": "ipython",
    "version": 3
   },
   "file_extension": ".py",
   "mimetype": "text/x-python",
   "name": "python",
   "nbconvert_exporter": "python",
   "pygments_lexer": "ipython3",
   "version": "3.9.7"
  }
 },
 "nbformat": 4,
 "nbformat_minor": 5
}
