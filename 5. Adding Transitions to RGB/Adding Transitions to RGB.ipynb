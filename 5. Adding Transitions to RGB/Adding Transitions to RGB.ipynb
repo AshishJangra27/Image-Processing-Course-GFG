{
 "cells": [
  {
   "cell_type": "code",
   "execution_count": 2,
   "id": "b45eb0cb",
   "metadata": {},
   "outputs": [],
   "source": [
    "import cv2 as cv\n",
    "import numpy as np\n",
    "import matplotlib.pyplot as plt"
   ]
  },
  {
   "cell_type": "markdown",
   "id": "b84dfb70",
   "metadata": {},
   "source": [
    "### 1. Creating Different Shared of Red"
   ]
  },
  {
   "cell_type": "code",
   "execution_count": 4,
   "id": "6ef02fec",
   "metadata": {
    "scrolled": true
   },
   "outputs": [
    {
     "data": {
      "text/plain": [
       "<matplotlib.image.AxesImage at 0x7fcf991b3a60>"
      ]
     },
     "execution_count": 4,
     "metadata": {},
     "output_type": "execute_result"
    },
    {
     "data": {
      "image/png": "[encoded data removed]",
      "text/plain": [
       "<Figure size 432x288 with 1 Axes>"
      ]
     },
     "metadata": {
      "needs_background": "light"
     },
     "output_type": "display_data"
    }
   ],
   "source": [
    "arr = np.array([[[ 30  , 0 , 0 ] , [ 60  , 0 , 0 ] ,[ 90  , 0 , 0 ]],\n",
    "                [[ 120 , 0 , 0 ] , [ 150 , 0 , 0 ] ,[ 180 , 0 , 0 ]],\n",
    "                [[ 210 , 0 , 0 ] , [ 240 , 0 , 0 ] ,[ 255 , 0 , 0 ]]])\n",
    "\n",
    "plt.imshow(arr)"
   ]
  },
  {
   "cell_type": "markdown",
   "id": "2e3f665c",
   "metadata": {},
   "source": [
    "### 2. Creating Different Shades of Green"
   ]
  },
  {
   "cell_type": "code",
   "execution_count": 5,
   "id": "32f88336",
   "metadata": {},
   "outputs": [
    {
     "data": {
      "text/plain": [
       "<matplotlib.image.AxesImage at 0x7fcf7803d250>"
      ]
     },
     "execution_count": 5,
     "metadata": {},
     "output_type": "execute_result"
    },
    {
     "data": {
      "image/png": "[encoded data removed]",
      "text/plain": [
       "<Figure size 432x288 with 1 Axes>"
      ]
     },
     "metadata": {
      "needs_background": "light"
     },
     "output_type": "display_data"
    }
   ],
   "source": [
    "arr = np.array([[[ 0, 30  , 0  ] , [ 0, 60  , 0 ] ,[ 0, 90  , 0 ]],\n",
    "                [[ 0, 120 , 0  ] , [ 0, 150 , 0 ] ,[ 0, 180 , 0 ]],\n",
    "                [[ 0, 210 , 0  ] , [ 0, 240 , 0 ] ,[ 0, 255 , 0 ]]])\n",
    "\n",
    "plt.imshow(arr)"
   ]
  },
  {
   "cell_type": "markdown",
   "id": "71a948b2",
   "metadata": {},
   "source": [
    "### 3. Creating DIfferent Shades of Blue"
   ]
  },
  {
   "cell_type": "code",
   "execution_count": 6,
   "id": "68ad0aba",
   "metadata": {},
   "outputs": [
    {
     "data": {
      "text/plain": [
       "<matplotlib.image.AxesImage at 0x7fcf992635e0>"
      ]
     },
     "execution_count": 6,
     "metadata": {},
     "output_type": "execute_result"
    },
    {
     "data": {
      "image/png": "[encoded data removed]",
      "text/plain": [
       "<Figure size 432x288 with 1 Axes>"
      ]
     },
     "metadata": {
      "needs_background": "light"
     },
     "output_type": "display_data"
    }
   ],
   "source": [
    "arr = np.array([[[ 0,0, 30  ] , [ 0,0, 60  ] ,[ 0,0, 90  ]],\n",
    "                [[ 0,0, 120 ] , [ 0,0, 150 ] ,[ 0,0, 180 ]],\n",
    "                [[ 0,0, 210 ] , [ 0,0, 240 ] ,[ 0,0, 255 ]]])\n",
    "\n",
    "plt.imshow(arr)"
   ]
  },
  {
   "cell_type": "markdown",
   "id": "d99c69a4",
   "metadata": {},
   "source": [
    "### 4. Merging all the Images given above"
   ]
  },
  {
   "cell_type": "code",
   "execution_count": 14,
   "id": "7b4e02e9",
   "metadata": {},
   "outputs": [
    {
     "data": {
      "text/plain": [
       "<matplotlib.image.AxesImage at 0x7fcfa83f6a00>"
      ]
     },
     "execution_count": 14,
     "metadata": {},
     "output_type": "execute_result"
    },
    {
     "data": {
      "image/png": "[encoded data removed]",
      "text/plain": [
       "<Figure size 432x288 with 1 Axes>"
      ]
     },
     "metadata": {
      "needs_background": "light"
     },
     "output_type": "display_data"
    }
   ],
   "source": [
    "arr=np.array([[[ 0   , 70 , 0  ] , [ 0   ,150, 0 ] ,[ 0   ,255,  0 ]],\n",
    "              [[ 70  , 0  , 0  ] , [ 150 , 0 , 0 ] ,[ 255 , 0 ,  0 ]],\n",
    "              [[ 0   , 0  , 70 ] , [ 0   , 0 ,150] ,[ 0   , 0 , 255]]])\n",
    "\n",
    "plt.imshow(arr)"
   ]
  },
  {
   "cell_type": "markdown",
   "id": "0a95097e",
   "metadata": {},
   "source": [
    "### 5. Creating Shades of Red - Dense"
   ]
  },
  {
   "cell_type": "code",
   "execution_count": 26,
   "id": "e6fe6aff",
   "metadata": {},
   "outputs": [
    {
     "data": {
      "text/plain": [
       "<matplotlib.image.AxesImage at 0x7fcfc9ce1a60>"
      ]
     },
     "execution_count": 26,
     "metadata": {},
     "output_type": "execute_result"
    },
    {
     "data": {
      "image/png": "[encoded data removed]",
      "text/plain": [
       "<Figure size 432x288 with 1 Axes>"
      ]
     },
     "metadata": {
      "needs_background": "light"
     },
     "output_type": "display_data"
    }
   ],
   "source": [
    "img = []\n",
    "\n",
    "for i in range(256):\n",
    "    t = []\n",
    "    for j in range(256):\n",
    "        t.append([i,0,0])\n",
    "    img.append(t)\n",
    "\n",
    "img = np.array(img)\n",
    "\n",
    "plt.imshow(img)"
   ]
  },
  {
   "cell_type": "markdown",
   "id": "358ee4a4",
   "metadata": {},
   "source": [
    "### 6. Creating Shades of Green - Dense"
   ]
  },
  {
   "cell_type": "code",
   "execution_count": 25,
   "id": "29f5b36c",
   "metadata": {},
   "outputs": [
    {
     "data": {
      "text/plain": [
       "<matplotlib.image.AxesImage at 0x7fcfa85b57c0>"
      ]
     },
     "execution_count": 25,
     "metadata": {},
     "output_type": "execute_result"
    },
    {
     "data": {
      "image/png": "[encoded data removed]",
      "text/plain": [
       "<Figure size 432x288 with 1 Axes>"
      ]
     },
     "metadata": {
      "needs_background": "light"
     },
     "output_type": "display_data"
    }
   ],
   "source": [
    "img = []\n",
    "\n",
    "for i in range(256):\n",
    "    t = []\n",
    "    for j in range(256):\n",
    "        t.append([0,i,0])\n",
    "    img.append(t)\n",
    "\n",
    "img = np.array(img)\n",
    "\n",
    "plt.imshow(img)"
   ]
  },
  {
   "cell_type": "markdown",
   "id": "aa118414",
   "metadata": {},
   "source": [
    "### 7. Creating Shades of Blue - Dense"
   ]
  },
  {
   "cell_type": "code",
   "execution_count": 29,
   "id": "07b16e9a",
   "metadata": {},
   "outputs": [
    {
     "data": {
      "text/plain": [
       "<matplotlib.image.AxesImage at 0x7fcf99950460>"
      ]
     },
     "execution_count": 29,
     "metadata": {},
     "output_type": "execute_result"
    },
    {
     "data": {
      "image/png": "[encoded data removed]",
      "text/plain": [
       "<Figure size 432x288 with 1 Axes>"
      ]
     },
     "metadata": {
      "needs_background": "light"
     },
     "output_type": "display_data"
    }
   ],
   "source": [
    "img = []\n",
    "\n",
    "for i in range(256):\n",
    "    t = []\n",
    "    for j in range(256):\n",
    "        t.append([0,0,i])\n",
    "    img.append(t)\n",
    "\n",
    "img = np.array(img)\n",
    "\n",
    "plt.imshow(img)"
   ]
  },
  {
   "cell_type": "markdown",
   "id": "64f1f552",
   "metadata": {},
   "source": [
    "### 7. Merging these three shades"
   ]
  },
  {
   "cell_type": "code",
   "execution_count": 35,
   "id": "69223751",
   "metadata": {},
   "outputs": [
    {
     "name": "stderr",
     "output_type": "stream",
     "text": [
      "Clipping input data to the valid range for imshow with RGB data ([0..1] for floats or [0..255] for integers).\n"
     ]
    },
    {
     "data": {
      "text/plain": [
       "<matplotlib.image.AxesImage at 0x7fcf5ef9cdf0>"
      ]
     },
     "execution_count": 35,
     "metadata": {},
     "output_type": "execute_result"
    },
    {
     "data": {
      "image/png": "[encoded data removed]",
      "text/plain": [
       "<Figure size 432x288 with 1 Axes>"
      ]
     },
     "metadata": {
      "needs_background": "light"
     },
     "output_type": "display_data"
    }
   ],
   "source": [
    "img = []\n",
    "\n",
    "# Red\n",
    "\n",
    "for i in range(256):             # from Black to Red\n",
    "    t = []\n",
    "    for j in range(1536):\n",
    "        t.append([i,0,0])\n",
    "    img.append(t)\n",
    "\n",
    "for i in range(256,0,-1):        # from Red to Black\n",
    "    t = []\n",
    "    for j in range(1536):\n",
    "        t.append([i,0,0])\n",
    "    img.append(t)\n",
    "    \n",
    "# Green\n",
    "    \n",
    "for i in range(256):             # from Black to Green\n",
    "    t = []\n",
    "    for j in range(1536):\n",
    "        t.append([0,i,0])\n",
    "    img.append(t)\n",
    "\n",
    "for i in range(256,0,-1):        # from Green to Black\n",
    "    t = []\n",
    "    for j in range(1536):\n",
    "        t.append([0,i,0])\n",
    "    img.append(t)\n",
    "\n",
    "#Blue    \n",
    "\n",
    "\n",
    "for i in range(256):             # from Black to Blue\n",
    "    t = []\n",
    "    for j in range(1536):\n",
    "        t.append([0,0,i])\n",
    "    img.append(t)\n",
    "\n",
    "for i in range(256,0,-1):        # from Blue to Black\n",
    "    t = []\n",
    "    for j in range(1536):\n",
    "        t.append([0,0,i])\n",
    "    img.append(t)\n",
    "    \n",
    "    \n",
    "\n",
    "img = np.array(img)\n",
    "\n",
    "plt.imshow(img)"
   ]
  },
  {
   "cell_type": "code",
   "execution_count": 36,
   "id": "c8c04eec",
   "metadata": {},
   "outputs": [
    {
     "data": {
      "text/plain": [
       "True"
      ]
     },
     "execution_count": 36,
     "metadata": {},
     "output_type": "execute_result"
    }
   ],
   "source": [
    "cv.imwrite('Transition.jpg',img)"
   ]
  },
  {
   "cell_type": "code",
   "execution_count": null,
   "id": "95f18363",
   "metadata": {},
   "outputs": [],
   "source": []
  }
 ],
 "metadata": {
  "kernelspec": {
   "display_name": "Python 3 (ipykernel)",
   "language": "python",
   "name": "python3"
  },
  "language_info": {
   "codemirror_mode": {
    "name": "ipython",
    "version": 3
   },
   "file_extension": ".py",
   "mimetype": "text/x-python",
   "name": "python",
   "nbconvert_exporter": "python",
   "pygments_lexer": "ipython3",
   "version": "3.9.7"
  }
 },
 "nbformat": 4,
 "nbformat_minor": 5
}
