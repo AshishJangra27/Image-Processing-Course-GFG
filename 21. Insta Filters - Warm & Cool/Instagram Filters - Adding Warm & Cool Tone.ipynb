{
 "cells": [
  {
   "cell_type": "code",
   "execution_count": 5,
   "id": "b45eb0cb",
   "metadata": {},
   "outputs": [],
   "source": [
    "import cv2 as cv\n",
    "import numpy as np\n",
    "import matplotlib.pyplot as plt\n",
    "\n",
    "blue = [247,206,139]"
   ]
  },
  {
   "cell_type": "markdown",
   "id": "96eb4b02",
   "metadata": {},
   "source": [
    "### 1. Creating Blue Background"
   ]
  },
  {
   "cell_type": "code",
   "execution_count": 14,
   "id": "3aa06312",
   "metadata": {},
   "outputs": [],
   "source": [
    "background = []\n",
    "\n",
    "for i in range(720):\n",
    "    temp = []\n",
    "    for j in range(1280):\n",
    "        temp.append(blue)\n",
    "    background.append(temp)\n",
    "    \n",
    "background = np.array(background).astype(np.uint8)"
   ]
  },
  {
   "cell_type": "markdown",
   "id": "c32d7241",
   "metadata": {},
   "source": [
    "### 2. Merging Blue Background with live feed"
   ]
  },
  {
   "cell_type": "code",
   "execution_count": 26,
   "id": "f2555107",
   "metadata": {},
   "outputs": [],
   "source": [
    "cam = cv.VideoCapture(0)\n",
    "\n",
    "while True:\n",
    "    \n",
    "    _, img = cam.read()\n",
    "    img = cv.flip(img, 1)\n",
    "    \n",
    "    img = np.array(img).astype(np.uint8)\n",
    "    \n",
    "    merged = cv.addWeighted(img, .85, background, .15, 0)\n",
    "    \n",
    "    cv.imshow(\"Original\",img)\n",
    "    cv.imshow(\"Merged\",merged)\n",
    "    \n",
    "    if cv.waitKey(1) == 27:\n",
    "        cam.release()\n",
    "        break"
   ]
  },
  {
   "cell_type": "markdown",
   "id": "d61e2a7d",
   "metadata": {},
   "source": [
    "### 3. Creating Feed with Warmer Tone"
   ]
  },
  {
   "cell_type": "code",
   "execution_count": 28,
   "id": "34a74621",
   "metadata": {},
   "outputs": [],
   "source": [
    "yellow = [108,222,249]\n",
    "\n",
    "background = []\n",
    "\n",
    "for i in range(720):\n",
    "    temp = []\n",
    "    for j in range(1280):\n",
    "        temp.append(yellow)\n",
    "    background.append(temp)\n",
    "    \n",
    "background = np.array(background).astype(np.uint8)\n",
    "\n",
    "\n",
    "cam = cv.VideoCapture(0)\n",
    "\n",
    "while True:\n",
    "    \n",
    "    _, img = cam.read()\n",
    "    img = cv.flip(img, 1)\n",
    "    \n",
    "    img = np.array(img).astype(np.uint8)\n",
    "    \n",
    "    merged = cv.addWeighted(img, .90, background, .10, 0)\n",
    "    \n",
    "    cv.imshow(\"Original\",img)\n",
    "    cv.imshow(\"Merged\",merged)\n",
    "    \n",
    "    if cv.waitKey(1) == 27:\n",
    "        cam.release()\n",
    "        break"
   ]
  },
  {
   "cell_type": "markdown",
   "id": "d67311b5",
   "metadata": {},
   "source": [
    "### 4. Creating both Filters"
   ]
  },
  {
   "cell_type": "code",
   "execution_count": 29,
   "id": "7e8c4427",
   "metadata": {},
   "outputs": [],
   "source": [
    "yellow = [108,222,249]\n",
    "\n",
    "yellow_background = []\n",
    "for i in range(720):\n",
    "    temp = []\n",
    "    for j in range(1280):\n",
    "        temp.append(yellow)\n",
    "    yellow_background.append(temp)\n",
    "    \n",
    "yellow_background = np.array(background).astype(np.uint8)\n",
    "\n",
    "\n",
    "blue = [247,206,139]\n",
    "\n",
    "blue_background = []\n",
    "for i in range(720):\n",
    "    temp = []\n",
    "    for j in range(1280):\n",
    "        temp.append(blue)\n",
    "    blue_background.append(temp)\n",
    "    \n",
    "blue_background = np.array(blue_background).astype(np.uint8)\n",
    "\n",
    "\n",
    "cam = cv.VideoCapture(0)\n",
    "\n",
    "while True:\n",
    "    \n",
    "    _, img = cam.read()\n",
    "    img = cv.flip(img, 1)\n",
    "    \n",
    "    img = np.array(img).astype(np.uint8)\n",
    "    \n",
    "    merged_yellow = cv.addWeighted(img, .90, yellow_background, .10, 0)\n",
    "    merged_blue = cv.addWeighted(img, .90, blue_background, .10, 0)\n",
    "    \n",
    "    cv.imshow(\"Original\",img)\n",
    "    cv.imshow(\"Yellow\"  ,merged_yellow)\n",
    "    cv.imshow(\"Blue\"    ,merged_blue)\n",
    "    \n",
    "    \n",
    "    if cv.waitKey(1) == 27:\n",
    "        cam.release()\n",
    "        break"
   ]
  },
  {
   "cell_type": "code",
   "execution_count": null,
   "id": "5d5868a0",
   "metadata": {},
   "outputs": [],
   "source": []
  }
 ],
 "metadata": {
  "kernelspec": {
   "display_name": "Python 3 (ipykernel)",
   "language": "python",
   "name": "python3"
  },
  "language_info": {
   "codemirror_mode": {
    "name": "ipython",
    "version": 3
   },
   "file_extension": ".py",
   "mimetype": "text/x-python",
   "name": "python",
   "nbconvert_exporter": "python",
   "pygments_lexer": "ipython3",
   "version": "3.9.7"
  }
 },
 "nbformat": 4,
 "nbformat_minor": 5
}
