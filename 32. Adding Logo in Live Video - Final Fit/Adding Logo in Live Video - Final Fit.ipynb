{
 "cells": [
  {
   "cell_type": "markdown",
   "id": "70702488",
   "metadata": {},
   "source": [
    "### 1. Top Right\n",
    "\n",
    "Height (1%    = Margin | 7%  = Logo | 92%   = Vacant) 720\n",
    "\n",
    "Width  (95.5% = Margin | 4%  = Logo | .5%   = Vacant) 1280"
   ]
  },
  {
   "cell_type": "code",
   "execution_count": 46,
   "id": "17fcc3b7",
   "metadata": {},
   "outputs": [],
   "source": [
    "import cv2 as cv\n",
    "import numpy as np\n",
    " \n",
    "cam = cv.VideoCapture(0)\n",
    "\n",
    "logo = cv.imread('download.png')\n",
    "\n",
    "while True:\n",
    "    \n",
    "    logo = cv.imread('download.png')\n",
    "    _, img = cam.read()\n",
    "\n",
    "    img = cv.flip(img,1)\n",
    "        \n",
    "#     img = cv.resize(img, (int(img.shape[1] * scaling_factor), int(img.shape[0] * scaling_factor)))\n",
    "    \n",
    "    \n",
    "    ht = img.shape[0]\n",
    "    wt = img.shape[1]\n",
    "    \n",
    "    margin_top  = int(ht/100)             # 1%\n",
    "    logo_height = int((ht/100)*7)         # 7%\n",
    "    \n",
    "    margin_left = int((wt/100)*95.5)      # 95.5%\n",
    "    logo_width  = int((wt/100)*4)         # 4%\n",
    "    \n",
    "    side = min(logo_width,logo_height)\n",
    "    \n",
    "    logo = cv.resize(logo, (side, side))\n",
    "    \n",
    "    img[ margin_top : side + margin_top , margin_left : margin_left + side ] = logo\n",
    "\n",
    "    cv.imshow('Frame'  , img)\n",
    "    \n",
    "    if cv.waitKey(1) == 27:\n",
    "        cam.release()\n",
    "        break"
   ]
  },
  {
   "cell_type": "code",
   "execution_count": 43,
   "id": "2ea89d68",
   "metadata": {},
   "outputs": [],
   "source": [
    "cam.release()"
   ]
  },
  {
   "cell_type": "code",
   "execution_count": 37,
   "id": "5c8a0545",
   "metadata": {},
   "outputs": [
    {
     "data": {
      "text/plain": [
       "119"
      ]
     },
     "execution_count": 37,
     "metadata": {},
     "output_type": "execute_result"
    }
   ],
   "source": [
    "cv.waitKey(0)"
   ]
  },
  {
   "cell_type": "code",
   "execution_count": 31,
   "id": "424a0dfd",
   "metadata": {},
   "outputs": [
    {
     "data": {
      "text/plain": [
       "(720, 1260)"
      ]
     },
     "execution_count": 31,
     "metadata": {},
     "output_type": "execute_result"
    }
   ],
   "source": [
    "scaling_factor = 1.0\n",
    "\n",
    "int(img.shape[0] * scaling_factor), int(img.shape[1] * scaling_factor)"
   ]
  },
  {
   "cell_type": "code",
   "execution_count": 41,
   "id": "6710b5e5",
   "metadata": {},
   "outputs": [
    {
     "data": {
      "text/plain": [
       "3.6000000000000023"
      ]
     },
     "execution_count": 41,
     "metadata": {},
     "output_type": "execute_result"
    }
   ],
   "source": [
    "scaling_factor"
   ]
  },
  {
   "cell_type": "code",
   "execution_count": null,
   "id": "87e27fd7",
   "metadata": {},
   "outputs": [],
   "source": []
  }
 ],
 "metadata": {
  "kernelspec": {
   "display_name": "Python 3 (ipykernel)",
   "language": "python",
   "name": "python3"
  },
  "language_info": {
   "codemirror_mode": {
    "name": "ipython",
    "version": 3
   },
   "file_extension": ".py",
   "mimetype": "text/x-python",
   "name": "python",
   "nbconvert_exporter": "python",
   "pygments_lexer": "ipython3",
   "version": "3.9.7"
  }
 },
 "nbformat": 4,
 "nbformat_minor": 5
}
