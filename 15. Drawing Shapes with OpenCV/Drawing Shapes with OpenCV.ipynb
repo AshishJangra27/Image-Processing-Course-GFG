{
 "cells": [
  {
   "cell_type": "code",
   "execution_count": 2,
   "id": "b45eb0cb",
   "metadata": {},
   "outputs": [],
   "source": [
    "import cv2 as cv\n",
    "import numpy as np\n",
    "import matplotlib.pyplot as plt"
   ]
  },
  {
   "cell_type": "markdown",
   "id": "c64dcf30",
   "metadata": {},
   "source": [
    "### 1. Drawing Rectangle"
   ]
  },
  {
   "cell_type": "code",
   "execution_count": 17,
   "id": "5c395b21",
   "metadata": {},
   "outputs": [],
   "source": [
    "cam = cv.VideoCapture(0)\n",
    "\n",
    "while True:\n",
    "\n",
    "    _, img = cam.read()\n",
    "    \n",
    "    img = cv.flip(img, 1) \n",
    "   \n",
    "    img = cv.rectangle(img,(400,100),(800,600), (255,0,0),3)\n",
    "    img = cv.rectangle(img,(395,95) ,(805,605), (0,255,0),3)\n",
    "    img = cv.rectangle(img,(390,90) ,(810,610), (0,0,255),3)\n",
    "\n",
    "    cv.imshow(\"Frame\",img)\n",
    "    \n",
    "    key = cv.waitKey(10)\n",
    "    \n",
    "    if (key == 27):                                       \n",
    "        cam.release()\n",
    "        break"
   ]
  },
  {
   "cell_type": "markdown",
   "id": "ee119853",
   "metadata": {},
   "source": [
    "### 2. Drawing Circle"
   ]
  },
  {
   "cell_type": "code",
   "execution_count": 29,
   "id": "34998fd6",
   "metadata": {},
   "outputs": [],
   "source": [
    "cam = cv.VideoCapture(0)\n",
    "\n",
    "while True:\n",
    "\n",
    "    _, img = cam.read()\n",
    "    \n",
    "    img = cv.flip(img, 1) \n",
    "    \n",
    "    img = cv.circle(img,(640,360), 650, (160,67,93), 200)\n",
    "\n",
    "    cv.imshow(\"Frame\",img)\n",
    "    \n",
    "    key = cv.waitKey(10)\n",
    "    \n",
    "    if (key == 27):                                       \n",
    "        cam.release()\n",
    "        break"
   ]
  },
  {
   "cell_type": "markdown",
   "id": "2891dd3e",
   "metadata": {},
   "source": [
    "### 3. Writing Text"
   ]
  },
  {
   "cell_type": "code",
   "execution_count": 39,
   "id": "c0ff1edd",
   "metadata": {},
   "outputs": [],
   "source": [
    "cam = cv.VideoCapture(0)\n",
    "\n",
    "while True:\n",
    "\n",
    "    _, img = cam.read()\n",
    "    \n",
    "    img = cv.flip(img, 1) \n",
    "\n",
    "    img = cv.putText(img, 'Ashish Jangra',(10,30), cv.FONT_HERSHEY_PLAIN, 2, (160,67,93), 2)\n",
    "\n",
    "    cv.imshow(\"Frame\",img)\n",
    "    \n",
    "    key = cv.waitKey(10)\n",
    "    \n",
    "    if (key == 27):                                       \n",
    "        cam.release()\n",
    "        break"
   ]
  },
  {
   "cell_type": "code",
   "execution_count": null,
   "id": "a93eaca3",
   "metadata": {},
   "outputs": [],
   "source": []
  }
 ],
 "metadata": {
  "kernelspec": {
   "display_name": "Python 3 (ipykernel)",
   "language": "python",
   "name": "python3"
  },
  "language_info": {
   "codemirror_mode": {
    "name": "ipython",
    "version": 3
   },
   "file_extension": ".py",
   "mimetype": "text/x-python",
   "name": "python",
   "nbconvert_exporter": "python",
   "pygments_lexer": "ipython3",
   "version": "3.9.7"
  }
 },
 "nbformat": 4,
 "nbformat_minor": 5
}
