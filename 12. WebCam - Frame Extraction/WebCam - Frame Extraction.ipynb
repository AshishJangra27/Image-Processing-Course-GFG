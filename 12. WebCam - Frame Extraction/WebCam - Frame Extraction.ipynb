{
 "cells": [
  {
   "cell_type": "code",
   "execution_count": 1,
   "id": "b45eb0cb",
   "metadata": {},
   "outputs": [],
   "source": [
    "import cv2 as cv\n",
    "import numpy as np\n",
    "import matplotlib.pyplot as plt"
   ]
  },
  {
   "cell_type": "markdown",
   "id": "b84dfb70",
   "metadata": {},
   "source": [
    "### 1. Frame Extraction"
   ]
  },
  {
   "cell_type": "code",
   "execution_count": 5,
   "id": "af0d132c",
   "metadata": {},
   "outputs": [],
   "source": [
    "cam = cv.VideoCapture(0)\n",
    "\n",
    "while True:\n",
    "\n",
    "    _, img = cam.read()\n",
    "    \n",
    "    img = cv.flip(img, 1) \n",
    "    hsv = cv.cvtColor(img, cv.COLOR_BGR2HSV)\n",
    "    \n",
    "    r = img[:,:,0]\n",
    "    g = img[:,:,1]\n",
    "    b = img[:,:,2]\n",
    "    \n",
    "    h = hsv[:,:,0]\n",
    "    s = hsv[:,:,1]\n",
    "    v = hsv[:,:,2]\n",
    "\n",
    "    \n",
    "    cv.imshow(\"Frame\",img)\n",
    "    cv.imshow(\"Red\"  ,r)\n",
    "    cv.imshow(\"Green\",g)\n",
    "    cv.imshow(\"Blue\" ,b)\n",
    "    \n",
    "    cv.imshow(\"HSV\"  ,hsv)\n",
    "    cv.imshow(\"Hue\"  ,h)\n",
    "    cv.imshow(\"Saturation\",s)\n",
    "    cv.imshow(\"Value\",v)\n",
    "    \n",
    "    key = cv.waitKey(20)\n",
    "    \n",
    "    \n",
    "    if (key == 27):\n",
    "        cam.release()\n",
    "        break"
   ]
  }
 ],
 "metadata": {
  "kernelspec": {
   "display_name": "Python 3 (ipykernel)",
   "language": "python",
   "name": "python3"
  },
  "language_info": {
   "codemirror_mode": {
    "name": "ipython",
    "version": 3
   },
   "file_extension": ".py",
   "mimetype": "text/x-python",
   "name": "python",
   "nbconvert_exporter": "python",
   "pygments_lexer": "ipython3",
   "version": "3.9.7"
  }
 },
 "nbformat": 4,
 "nbformat_minor": 5
}
