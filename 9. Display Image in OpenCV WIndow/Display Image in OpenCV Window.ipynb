{
 "cells": [
  {
   "cell_type": "code",
   "execution_count": 1,
   "id": "b45eb0cb",
   "metadata": {},
   "outputs": [],
   "source": [
    "import cv2 as cv\n",
    "import numpy as np\n",
    "import matplotlib.pyplot as plt"
   ]
  },
  {
   "cell_type": "markdown",
   "id": "b84dfb70",
   "metadata": {},
   "source": [
    "### 1. Loading an Image using OpenCV"
   ]
  },
  {
   "cell_type": "code",
   "execution_count": 2,
   "id": "49ffe855",
   "metadata": {},
   "outputs": [
    {
     "data": {
      "text/plain": [
       "13"
      ]
     },
     "execution_count": 2,
     "metadata": {},
     "output_type": "execute_result"
    }
   ],
   "source": [
    "img = cv.imread('rgb.jpeg')\n",
    "img = cv.cvtColor(img, cv.COLOR_BGR2RGB)\n",
    "cv.imshow(\"Image\",img)\n",
    "cv.waitKey(0)\n",
    "\n",
    "img = cv.imread('Transition.jpg')\n",
    "img = cv.cvtColor(img, cv.COLOR_BGR2RGB)\n",
    "cv.imshow(\"Image\",img)\n",
    "cv.waitKey(0)"
   ]
  },
  {
   "cell_type": "markdown",
   "id": "66048967",
   "metadata": {},
   "source": [
    "### 2. DIsplaying 3 Frames on RGB"
   ]
  },
  {
   "cell_type": "code",
   "execution_count": 2,
   "id": "109ef2aa",
   "metadata": {},
   "outputs": [
    {
     "data": {
      "text/plain": [
       "13"
      ]
     },
     "execution_count": 2,
     "metadata": {},
     "output_type": "execute_result"
    }
   ],
   "source": [
    "img = cv.imread('rgb.jpeg')\n",
    "img = cv.cvtColor(img, cv.COLOR_BGR2RGB)\n",
    "\n",
    "r = img[ :  , : , 0 ]  # - Red\n",
    "g = img[ :  , : , 1 ]  # - Green\n",
    "b = img[ :  , : , 2 ]  # - Blue\n",
    "\n",
    "\n",
    "cv.imshow(\"Frame\",r)\n",
    "cv.waitKey(0)\n",
    "\n",
    "cv.imshow(\"Frame\",g)\n",
    "cv.waitKey(0)\n",
    "\n",
    "cv.imshow(\"Frame\",b)\n",
    "cv.waitKey(0)"
   ]
  },
  {
   "cell_type": "code",
   "execution_count": null,
   "id": "94b1b5ac",
   "metadata": {},
   "outputs": [],
   "source": []
  }
 ],
 "metadata": {
  "kernelspec": {
   "display_name": "Python 3 (ipykernel)",
   "language": "python",
   "name": "python3"
  },
  "language_info": {
   "codemirror_mode": {
    "name": "ipython",
    "version": 3
   },
   "file_extension": ".py",
   "mimetype": "text/x-python",
   "name": "python",
   "nbconvert_exporter": "python",
   "pygments_lexer": "ipython3",
   "version": "3.9.7"
  }
 },
 "nbformat": 4,
 "nbformat_minor": 5
}
