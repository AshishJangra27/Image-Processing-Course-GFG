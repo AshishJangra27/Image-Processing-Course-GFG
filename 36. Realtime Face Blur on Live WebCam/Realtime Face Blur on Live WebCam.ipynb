{
 "cells": [
  {
   "cell_type": "code",
   "execution_count": 1,
   "id": "17fcc3b7",
   "metadata": {},
   "outputs": [],
   "source": [
    "import cv2 as cv\n",
    "import numpy as np"
   ]
  },
  {
   "cell_type": "code",
   "execution_count": 2,
   "id": "a95bd9b1",
   "metadata": {},
   "outputs": [],
   "source": [
    "classifier = cv.CascadeClassifier('haarcascade_frontalface_default.xml')\n",
    "\n",
    "cam = cv.VideoCapture(0)\n",
    "\n",
    "while True:\n",
    "    \n",
    "    _, img = cam.read()\n",
    "    img = cv.flip(img,1)\n",
    "    \n",
    "    faces = classifier.detectMultiScale(img, 1.1, 5)\n",
    "    \n",
    "    for f in faces:\n",
    "        if f[-1] == max(faces[:,-1]):\n",
    "            break\n",
    "\n",
    "    if (len(faces) >= 1):\n",
    "        x = f[0] \n",
    "        y = f[1] \n",
    "        w = f[2]\n",
    "        h = f[3]\n",
    "\n",
    "#         cv.rectangle(img, (x,y),(x+w,y+h) , (0,180,0), 2)   \n",
    "\n",
    "        face = img[y:y+h, x:x+w]                 # Getting the Face Area from Video Feed\n",
    "        face = cv.blur(face, (32,32))            # Applying Blur on the Face\n",
    "        img[y:y+h, x:x+w] = face                 # Apply Blured Face on Video Feed\n",
    "        \n",
    "\n",
    "    cv.imshow('Frame'  , img )\n",
    "    cv.imshow('Face'   , face)\n",
    "    \n",
    "    if cv.waitKey(1) == 27:\n",
    "        cam.release()\n",
    "        break"
   ]
  },
  {
   "cell_type": "code",
   "execution_count": 51,
   "id": "056cf917",
   "metadata": {},
   "outputs": [],
   "source": [
    "cam.release()"
   ]
  },
  {
   "cell_type": "code",
   "execution_count": 55,
   "id": "fe888ffc",
   "metadata": {},
   "outputs": [
    {
     "data": {
      "text/plain": [
       "[392, 187, 353, 353]"
      ]
     },
     "execution_count": 55,
     "metadata": {},
     "output_type": "execute_result"
    }
   ],
   "source": [
    "list(face)"
   ]
  },
  {
   "cell_type": "code",
   "execution_count": 57,
   "id": "74dbae55",
   "metadata": {},
   "outputs": [
    {
     "ename": "TypeError",
     "evalue": "cannot unpack non-iterable numpy.int32 object",
     "output_type": "error",
     "traceback": [
      "\u001b[0;31m---------------------------------------------------------------------------\u001b[0m",
      "\u001b[0;31mTypeError\u001b[0m                                 Traceback (most recent call last)",
      "\u001b[0;32m/var/folders/rq/lwddjvtn5n9gjw05hwrg3hp80000gn/T/ipykernel_48524/4244616294.py\u001b[0m in \u001b[0;36m<module>\u001b[0;34m\u001b[0m\n\u001b[0;32m----> 1\u001b[0;31m \u001b[0;32mfor\u001b[0m \u001b[0mx\u001b[0m\u001b[0;34m,\u001b[0m\u001b[0my\u001b[0m\u001b[0;34m,\u001b[0m\u001b[0mw\u001b[0m\u001b[0;34m,\u001b[0m\u001b[0mh\u001b[0m \u001b[0;32min\u001b[0m \u001b[0mface\u001b[0m\u001b[0;34m:\u001b[0m\u001b[0;34m\u001b[0m\u001b[0;34m\u001b[0m\u001b[0m\n\u001b[0m\u001b[1;32m      2\u001b[0m     \u001b[0mprint\u001b[0m\u001b[0;34m(\u001b[0m\u001b[0mx\u001b[0m\u001b[0;34m,\u001b[0m\u001b[0my\u001b[0m\u001b[0;34m,\u001b[0m\u001b[0mw\u001b[0m\u001b[0;34m,\u001b[0m\u001b[0mh\u001b[0m\u001b[0;34m)\u001b[0m\u001b[0;34m\u001b[0m\u001b[0;34m\u001b[0m\u001b[0m\n",
      "\u001b[0;31mTypeError\u001b[0m: cannot unpack non-iterable numpy.int32 object"
     ]
    }
   ],
   "source": [
    "for i in face:\n",
    "    print(face[0],y,w,h)"
   ]
  },
  {
   "cell_type": "code",
   "execution_count": 61,
   "id": "be48e529",
   "metadata": {},
   "outputs": [
    {
     "data": {
      "text/plain": [
       "(392, 187, 353, 353)"
      ]
     },
     "execution_count": 61,
     "metadata": {},
     "output_type": "execute_result"
    }
   ],
   "source": [
    "face[0], face[1], face[2], face[3]"
   ]
  },
  {
   "cell_type": "code",
   "execution_count": 49,
   "id": "6cf159bd",
   "metadata": {},
   "outputs": [
    {
     "data": {
      "text/plain": [
       "array([386, 197, 342, 342], dtype=int32)"
      ]
     },
     "execution_count": 49,
     "metadata": {},
     "output_type": "execute_result"
    }
   ],
   "source": [
    "faces[0]"
   ]
  },
  {
   "cell_type": "code",
   "execution_count": 23,
   "id": "243b3465",
   "metadata": {},
   "outputs": [
    {
     "name": "stdout",
     "output_type": "stream",
     "text": [
      "[438 132 335 335]\n"
     ]
    }
   ],
   "source": [
    "for face in faces:\n",
    "    if face[-1] == max(faces[:,-1]):\n",
    "        print(face)"
   ]
  },
  {
   "cell_type": "code",
   "execution_count": null,
   "id": "e190a74f",
   "metadata": {},
   "outputs": [],
   "source": []
  }
 ],
 "metadata": {
  "kernelspec": {
   "display_name": "Python 3 (ipykernel)",
   "language": "python",
   "name": "python3"
  },
  "language_info": {
   "codemirror_mode": {
    "name": "ipython",
    "version": 3
   },
   "file_extension": ".py",
   "mimetype": "text/x-python",
   "name": "python",
   "nbconvert_exporter": "python",
   "pygments_lexer": "ipython3",
   "version": "3.9.7"
  }
 },
 "nbformat": 4,
 "nbformat_minor": 5
}
