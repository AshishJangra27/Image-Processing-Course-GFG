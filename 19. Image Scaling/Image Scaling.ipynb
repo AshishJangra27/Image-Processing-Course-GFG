{
 "cells": [
  {
   "cell_type": "code",
   "execution_count": 1,
   "id": "b45eb0cb",
   "metadata": {},
   "outputs": [],
   "source": [
    "import cv2 as cv\n",
    "import numpy as np\n",
    "import matplotlib.pyplot as plt"
   ]
  },
  {
   "cell_type": "markdown",
   "id": "66173b19",
   "metadata": {},
   "source": [
    "### 1. Image Scaling"
   ]
  },
  {
   "cell_type": "code",
   "execution_count": 2,
   "id": "2daf32cc",
   "metadata": {},
   "outputs": [],
   "source": [
    "cam = cv.VideoCapture(0)\n",
    "\n",
    "while True:\n",
    "    \n",
    "    _, img = cam.read()\n",
    "    \n",
    "    img = cv.flip(img,1)                \n",
    "    \n",
    "    resized_1 = cv.resize(img, (int(img.shape[1]/2) ,int(img.shape[0]/2)))\n",
    "    resized_2 = cv.resize(img, (int(img.shape[1]/4) ,int(img.shape[0]/4)))\n",
    "    \n",
    "    cv.imshow(\"Original\", img)\n",
    "    cv.imshow(\"Resized-1\", resized_1)\n",
    "    cv.imshow(\"Resized-2\", resized_2)\n",
    "    \n",
    "    if cv.waitKey(10) == 27:\n",
    "        cam.release()\n",
    "        break"
   ]
  },
  {
   "cell_type": "markdown",
   "id": "e6cc4023",
   "metadata": {},
   "source": [
    "### 2. Downscale & Upscale"
   ]
  },
  {
   "cell_type": "code",
   "execution_count": 2,
   "id": "8d01de3b",
   "metadata": {
    "scrolled": true
   },
   "outputs": [],
   "source": [
    "cam = cv.VideoCapture(0)\n",
    "\n",
    "while True:\n",
    "    \n",
    "    _, img = cam.read()\n",
    "    \n",
    "    img = cv.flip(img,1)                \n",
    "    \n",
    "    resized_1 = cv.resize(img      , (int(img.shape[1]/4) ,int(img.shape[0]/4)))\n",
    "    resized_2 = cv.resize(resized_1, (int(resized_1.shape[1]*4) ,int(resized_1.shape[0]*4)))\n",
    "    \n",
    "    \n",
    "    cv.imshow(\"Original\", img)\n",
    "    cv.imshow(\"Resized-1\", resized_1)\n",
    "    cv.imshow(\"Upscaled\", resized_2)\n",
    "    \n",
    "    if cv.waitKey(10) == 27:\n",
    "        cam.release()\n",
    "        break"
   ]
  }
 ],
 "metadata": {
  "kernelspec": {
   "display_name": "Python 3 (ipykernel)",
   "language": "python",
   "name": "python3"
  },
  "language_info": {
   "codemirror_mode": {
    "name": "ipython",
    "version": 3
   },
   "file_extension": ".py",
   "mimetype": "text/x-python",
   "name": "python",
   "nbconvert_exporter": "python",
   "pygments_lexer": "ipython3",
   "version": "3.9.7"
  }
 },
 "nbformat": 4,
 "nbformat_minor": 5
}
