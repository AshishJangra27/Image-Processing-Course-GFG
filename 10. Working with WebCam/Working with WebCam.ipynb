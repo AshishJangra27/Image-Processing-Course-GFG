{
 "cells": [
  {
   "cell_type": "code",
   "execution_count": 2,
   "id": "b45eb0cb",
   "metadata": {},
   "outputs": [],
   "source": [
    "import cv2 as cv\n",
    "import numpy as np\n",
    "import matplotlib.pyplot as plt"
   ]
  },
  {
   "cell_type": "markdown",
   "id": "b84dfb70",
   "metadata": {},
   "source": [
    "### 1. Working with WebCam"
   ]
  },
  {
   "cell_type": "code",
   "execution_count": 8,
   "id": "c137bc3c",
   "metadata": {},
   "outputs": [],
   "source": [
    "cam = cv.VideoCapture(0)\n",
    "\n",
    "while True:\n",
    "\n",
    "    _, img = cam.read()\n",
    "\n",
    "    cv.imshow(\"Frame\",img)\n",
    "    \n",
    "    key = cv.waitKey(1)\n",
    "    \n",
    "    if (key == 27):\n",
    "        cam.release()\n",
    "        break"
   ]
  }
 ],
 "metadata": {
  "kernelspec": {
   "display_name": "Python 3 (ipykernel)",
   "language": "python",
   "name": "python3"
  },
  "language_info": {
   "codemirror_mode": {
    "name": "ipython",
    "version": 3
   },
   "file_extension": ".py",
   "mimetype": "text/x-python",
   "name": "python",
   "nbconvert_exporter": "python",
   "pygments_lexer": "ipython3",
   "version": "3.9.7"
  }
 },
 "nbformat": 4,
 "nbformat_minor": 5
}
