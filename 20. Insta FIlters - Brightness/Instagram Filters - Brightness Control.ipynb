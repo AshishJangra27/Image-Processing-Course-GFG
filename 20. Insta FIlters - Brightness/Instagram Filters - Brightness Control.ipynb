{
 "cells": [
  {
   "cell_type": "code",
   "execution_count": 1,
   "id": "b45eb0cb",
   "metadata": {},
   "outputs": [],
   "source": [
    "import cv2 as cv\n",
    "import numpy as np\n",
    "import matplotlib.pyplot as plt"
   ]
  },
  {
   "cell_type": "markdown",
   "id": "e59d5f8c",
   "metadata": {},
   "source": [
    "### 1. Increasing Brightness"
   ]
  },
  {
   "cell_type": "code",
   "execution_count": 8,
   "id": "a42b1889",
   "metadata": {},
   "outputs": [],
   "source": [
    "pixels = float(10)\n",
    "\n",
    "cam = cv.VideoCapture(0)\n",
    "\n",
    "while True:\n",
    "    \n",
    "    _, img = cam.read()\n",
    "    img = cv.flip(img, 1)\n",
    "    \n",
    "    img_1 = img + pixels\n",
    "    img_1[img_1 <  0 ] = 0\n",
    "    img_1[img_1 > 255] = 255\n",
    "    img_1 = img_1.astype(np.uint8)\n",
    "    \n",
    "    img_2 = img + (2*pixels)\n",
    "    img_2[img_2 <  0 ] = 0\n",
    "    img_2[img_2 > 255] = 255\n",
    "    img_2 = img_2.astype(np.uint8)\n",
    "    \n",
    "    img_3 = img + (3*pixels)\n",
    "    img_3[img_3 <  0 ] = 0\n",
    "    img_3[img_3 > 255] = 255\n",
    "    img_3 = img_3.astype(np.uint8)\n",
    "    \n",
    "    \n",
    "    cv.imshow(\"Original\",img)\n",
    "    cv.imshow(\"Filter-1\",img_1)\n",
    "    cv.imshow(\"Filter-2\",img_2)\n",
    "    cv.imshow(\"Filter-3\",img_3)\n",
    "    \n",
    "    if cv.waitKey(1) == 27:\n",
    "        cam.release()\n",
    "        break"
   ]
  },
  {
   "cell_type": "markdown",
   "id": "23add1bc",
   "metadata": {},
   "source": [
    "### 2. Reduce Brightness"
   ]
  },
  {
   "cell_type": "code",
   "execution_count": 9,
   "id": "2455bc0e",
   "metadata": {},
   "outputs": [],
   "source": [
    "pixels = float(10)\n",
    "\n",
    "cam = cv.VideoCapture(0)\n",
    "\n",
    "while True:\n",
    "    \n",
    "    _, img = cam.read()\n",
    "    img = cv.flip(img, 1)\n",
    "    \n",
    "    img_1 = img - pixels\n",
    "    img_1[img_1 <  0 ] = 0\n",
    "    img_1[img_1 > 255] = 255\n",
    "    img_1 = img_1.astype(np.uint8)\n",
    "    \n",
    "    img_2 = img - (2*pixels)\n",
    "    img_2[img_2 <  0 ] = 0\n",
    "    img_2[img_2 > 255] = 255\n",
    "    img_2 = img_2.astype(np.uint8)\n",
    "    \n",
    "    img_3 = img - (3*pixels)\n",
    "    img_3[img_3 <  0 ] = 0\n",
    "    img_3[img_3 > 255] = 255\n",
    "    img_3 = img_3.astype(np.uint8)\n",
    "    \n",
    "    \n",
    "    cv.imshow(\"Original\",img)\n",
    "    cv.imshow(\"Filter-1\",img_1)\n",
    "    cv.imshow(\"Filter-2\",img_2)\n",
    "    cv.imshow(\"Filter-3\",img_3)\n",
    "    \n",
    "    if cv.waitKey(1) == 27:\n",
    "        cam.release()\n",
    "        break"
   ]
  }
 ],
 "metadata": {
  "kernelspec": {
   "display_name": "Python 3 (ipykernel)",
   "language": "python",
   "name": "python3"
  },
  "language_info": {
   "codemirror_mode": {
    "name": "ipython",
    "version": 3
   },
   "file_extension": ".py",
   "mimetype": "text/x-python",
   "name": "python",
   "nbconvert_exporter": "python",
   "pygments_lexer": "ipython3",
   "version": "3.9.7"
  }
 },
 "nbformat": 4,
 "nbformat_minor": 5
}
