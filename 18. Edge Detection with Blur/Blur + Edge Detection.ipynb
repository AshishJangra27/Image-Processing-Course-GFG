{
 "cells": [
  {
   "cell_type": "code",
   "execution_count": 1,
   "id": "b45eb0cb",
   "metadata": {},
   "outputs": [],
   "source": [
    "import cv2 as cv\n",
    "import numpy as np\n",
    "import matplotlib.pyplot as plt"
   ]
  },
  {
   "cell_type": "markdown",
   "id": "66173b19",
   "metadata": {},
   "source": [
    "### 1. Edge Detection + Blur"
   ]
  },
  {
   "cell_type": "code",
   "execution_count": 7,
   "id": "c0f0acc3",
   "metadata": {},
   "outputs": [],
   "source": [
    "cam = cv.VideoCapture(0)\n",
    "\n",
    "while True:\n",
    "    \n",
    "    _, img = cam.read()\n",
    "    \n",
    "    img = cv.flip(img,1)                # Original Frame\n",
    "    \n",
    "    blr = cv.blur(img,(5,5))            # Blur on Original Frame\n",
    "    edg = cv.Canny(img, 0,50)        # Edge Detection on Original Frame\n",
    "    fin = cv.Canny(blr, 0,50)        # Edge Detection on Blur Frame\n",
    "    \n",
    "    \n",
    "    cv.imshow(\"Original\", img)\n",
    "    cv.imshow(\"Blur\"    , blr)\n",
    "    cv.imshow(\"Edges\"   , edg)\n",
    "    cv.imshow(\"Final\"   , fin)\n",
    "    \n",
    "    if cv.waitKey(10) == 27:\n",
    "        cam.release()\n",
    "        break"
   ]
  },
  {
   "cell_type": "code",
   "execution_count": 4,
   "id": "05d97221",
   "metadata": {},
   "outputs": [],
   "source": [
    "cam.release()"
   ]
  },
  {
   "cell_type": "code",
   "execution_count": 5,
   "id": "55058234",
   "metadata": {},
   "outputs": [
    {
     "data": {
      "text/plain": [
       "(720, 1280, 3)"
      ]
     },
     "execution_count": 5,
     "metadata": {},
     "output_type": "execute_result"
    }
   ],
   "source": [
    "img.shape"
   ]
  },
  {
   "cell_type": "code",
   "execution_count": 9,
   "id": "20372265",
   "metadata": {},
   "outputs": [
    {
     "data": {
      "text/plain": [
       "46656000"
      ]
     },
     "execution_count": 9,
     "metadata": {},
     "output_type": "execute_result"
    }
   ],
   "source": [
    "((360*360*3) * 6) * 20"
   ]
  }
 ],
 "metadata": {
  "kernelspec": {
   "display_name": "Python 3 (ipykernel)",
   "language": "python",
   "name": "python3"
  },
  "language_info": {
   "codemirror_mode": {
    "name": "ipython",
    "version": 3
   },
   "file_extension": ".py",
   "mimetype": "text/x-python",
   "name": "python",
   "nbconvert_exporter": "python",
   "pygments_lexer": "ipython3",
   "version": "3.9.7"
  }
 },
 "nbformat": 4,
 "nbformat_minor": 5
}
