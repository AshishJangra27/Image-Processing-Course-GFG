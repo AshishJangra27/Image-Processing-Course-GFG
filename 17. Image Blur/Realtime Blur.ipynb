{
 "cells": [
  {
   "cell_type": "code",
   "execution_count": 1,
   "id": "b45eb0cb",
   "metadata": {},
   "outputs": [],
   "source": [
    "import cv2 as cv\n",
    "import numpy as np\n",
    "import matplotlib.pyplot as plt"
   ]
  },
  {
   "cell_type": "markdown",
   "id": "66173b19",
   "metadata": {},
   "source": [
    "### 1. Realtime Blur"
   ]
  },
  {
   "cell_type": "code",
   "execution_count": 3,
   "id": "50d4c390",
   "metadata": {},
   "outputs": [],
   "source": [
    "cam = cv.VideoCapture(0)\n",
    "\n",
    "while True:\n",
    "    \n",
    "    _, img = cam.read()\n",
    "    \n",
    "    img = cv.flip(img,1)\n",
    "    \n",
    "    blr_1 = cv.blur(img,(2,2)) \n",
    "    blr_2 = cv.blur(img,(4,4)) \n",
    "    blr_3 = cv.blur(img,(8,8)) \n",
    "    blr_4 = cv.blur(img,(16,16)) \n",
    "    blr_5 = cv.blur(img,(32,32)) \n",
    "    \n",
    "    \n",
    "    cv.imshow(\"Frame\", img)\n",
    "    cv.imshow(\"Blur-1\" , blr_1)\n",
    "    cv.imshow(\"Blur-2\" , blr_2)\n",
    "    cv.imshow(\"Blur-3\" , blr_3)\n",
    "    cv.imshow(\"Blur-4\" , blr_4)\n",
    "    cv.imshow(\"Blur-5\" , blr_5)\n",
    "    \n",
    "    if cv.waitKey(10) == 27:\n",
    "        cam.release()\n",
    "        break"
   ]
  },
  {
   "cell_type": "code",
   "execution_count": 4,
   "id": "9c89f117",
   "metadata": {},
   "outputs": [],
   "source": [
    "cam.release()"
   ]
  },
  {
   "cell_type": "code",
   "execution_count": 5,
   "id": "d6d93d91",
   "metadata": {},
   "outputs": [
    {
     "data": {
      "text/plain": [
       "(720, 1280, 3)"
      ]
     },
     "execution_count": 5,
     "metadata": {},
     "output_type": "execute_result"
    }
   ],
   "source": [
    "img.shape"
   ]
  },
  {
   "cell_type": "code",
   "execution_count": 9,
   "id": "423ac1ce",
   "metadata": {},
   "outputs": [
    {
     "data": {
      "text/plain": [
       "46656000"
      ]
     },
     "execution_count": 9,
     "metadata": {},
     "output_type": "execute_result"
    }
   ],
   "source": [
    "((360*360*3) * 6) * 20"
   ]
  }
 ],
 "metadata": {
  "kernelspec": {
   "display_name": "Python 3 (ipykernel)",
   "language": "python",
   "name": "python3"
  },
  "language_info": {
   "codemirror_mode": {
    "name": "ipython",
    "version": 3
   },
   "file_extension": ".py",
   "mimetype": "text/x-python",
   "name": "python",
   "nbconvert_exporter": "python",
   "pygments_lexer": "ipython3",
   "version": "3.9.7"
  }
 },
 "nbformat": 4,
 "nbformat_minor": 5
}
